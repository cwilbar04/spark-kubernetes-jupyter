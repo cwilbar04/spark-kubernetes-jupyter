{
 "metadata": {
  "language_info": {
   "codemirror_mode": {
    "name": "ipython",
    "version": 3
   },
   "file_extension": ".py",
   "mimetype": "text/x-python",
   "name": "python",
   "nbconvert_exporter": "python",
   "pygments_lexer": "ipython3",
   "version": 3
  },
  "orig_nbformat": 2
 },
 "nbformat": 4,
 "nbformat_minor": 2,
 "cells": [
  {
   "cell_type": "code",
   "execution_count": null,
   "metadata": {},
   "outputs": [],
   "source": [
    "!gcloud auth activate-service-account deployer-sa@spark-container-testing.iam.gserviceaccount.com --key-file=sa.json --project=spark-container-testing"
   ]
  },
  {
   "cell_type": "code",
   "execution_count": null,
   "metadata": {},
   "outputs": [],
   "source": [
    "!gcloud container clusters get-credentials autopilot-cluster-1 --region=us-central1"
   ]
  },
  {
   "cell_type": "code",
   "execution_count": null,
   "metadata": {},
   "outputs": [],
   "source": [
    "!kubectl cluster-info"
   ]
  },
  {
   "cell_type": "code",
   "execution_count": null,
   "metadata": {},
   "outputs": [],
   "source": [
    "from pyspark.sql import SparkSession\n",
    "from pyspark import SparkFiles\n",
    "from pyspark.sql.types import StructType, StructField, StringType, DoubleType, BooleanType, ArrayType, LongType\n",
    "import re\n",
    "import requests\n",
    "from bs4 import BeautifulSoup"
   ]
  },
  {
   "cell_type": "code",
   "execution_count": null,
   "metadata": {},
   "outputs": [],
   "source": [
    "# Create Spark Session and Load BigQuery jar file\n",
    "spark = SparkSession \\\n",
    "    .builder \\\n",
    "    .appName(\"kubernetes\") \\\n",
    "    .config(\"spark.master\",\"k8s://https://34.123.210.201:443\") \\\n",
    "    .config(\"spark.submit.deployMode\",\"cluster\") \\\n",
    "    .config(\"spark.executor.instances\",\"3\") \\\n",
    "    .config(\"spark.kubernetes.container.image\",\"gcr.io/spark-container-testing/jupyterlab-pyspark\") \\\n",
    "    .config(\"spark.kubernetes.authenticate.driver.serviceAccountName\",\"spark\") \\\n",
    "    .getOrCreate()"
   ]
  },
  {
   "cell_type": "code",
   "execution_count": null,
   "metadata": {},
   "outputs": [],
   "source": [
    "spark.stop()"
   ]
  }
 ]
}